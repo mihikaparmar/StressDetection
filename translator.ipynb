{
 "cells": [
  {
   "cell_type": "code",
   "execution_count": null,
   "metadata": {},
   "outputs": [],
   "source": [
    "# This is not a related code, this is just a translator code for reference. I have already added this code in the cells of other files which uses multilingual dataset "
   ]
  },
  {
   "cell_type": "code",
   "execution_count": 1,
   "metadata": {},
   "outputs": [
    {
     "name": "stderr",
     "output_type": "stream",
     "text": [
      "C:\\Users\\DELL\\AppData\\Roaming\\Python\\Python312\\site-packages\\tqdm\\auto.py:21: TqdmWarning: IProgress not found. Please update jupyter and ipywidgets. See https://ipywidgets.readthedocs.io/en/stable/user_install.html\n",
      "  from .autonotebook import tqdm as notebook_tqdm\n"
     ]
    }
   ],
   "source": [
    "from transformers import MarianMTModel, MarianTokenizer"
   ]
  },
  {
   "cell_type": "code",
   "execution_count": 2,
   "metadata": {},
   "outputs": [
    {
     "name": "stderr",
     "output_type": "stream",
     "text": [
      "C:\\Users\\DELL\\AppData\\Roaming\\Python\\Python312\\site-packages\\huggingface_hub\\file_download.py:149: UserWarning: `huggingface_hub` cache-system uses symlinks by default to efficiently store duplicated files but your machine does not support them in C:\\Users\\DELL\\.cache\\huggingface\\hub\\models--Helsinki-NLP--opus-mt-mul-en. Caching files will still work but in a degraded version that might require more space on your disk. This warning can be disabled by setting the `HF_HUB_DISABLE_SYMLINKS_WARNING` environment variable. For more details, see https://huggingface.co/docs/huggingface_hub/how-to-cache#limitations.\n",
      "To support symlinks on Windows, you either need to activate Developer Mode or to run Python as an administrator. In order to see activate developer mode, see this article: https://docs.microsoft.com/en-us/windows/apps/get-started/enable-your-device-for-development\n",
      "  warnings.warn(message)\n",
      "c:\\Python312\\Lib\\site-packages\\transformers\\models\\marian\\tokenization_marian.py:197: UserWarning: Recommended: pip install sacremoses.\n",
      "  warnings.warn(\"Recommended: pip install sacremoses.\")\n"
     ]
    }
   ],
   "source": [
    "# Load pre-trained model and tokenizer for mBERT\n",
    "\n",
    "model_name = \"Helsinki-NLP/opus-mt-mul-en\"  # Multilingual translation model\n",
    "\n",
    "tokenizer = MarianTokenizer.from_pretrained(model_name)\n",
    "\n",
    "model = MarianMTModel.from_pretrained(model_name)"
   ]
  },
  {
   "cell_type": "code",
   "execution_count": 3,
   "metadata": {},
   "outputs": [],
   "source": [
    "# Translate text from any supported language to English\n",
    "\n",
    "def translate(text, source_lang=\"auto\"):\n",
    "\n",
    "    inputs = tokenizer(text, return_tensors=\"pt\", truncation=True, padding=True, source_lang=source_lang)\n",
    "\n",
    "    outputs = model.generate(**inputs)\n",
    "\n",
    "    translated_text = tokenizer.decode(outputs[0], skip_special_tokens=True)\n",
    "\n",
    "    return translated_text"
   ]
  },
  {
   "cell_type": "code",
   "execution_count": 4,
   "metadata": {},
   "outputs": [
    {
     "name": "stderr",
     "output_type": "stream",
     "text": [
      "Keyword arguments {'source_lang': 'es'} not recognized.\n"
     ]
    },
    {
     "name": "stdout",
     "output_type": "stream",
     "text": [
      "Spanish to English: Hey, how are you?\n"
     ]
    }
   ],
   "source": [
    "# Example translations from various languages to English\n",
    "\n",
    "input_text = \"Hola, ¿cómo estás?\"  # Spanish\n",
    "\n",
    "translated_text = translate(input_text, source_lang=\"es\")\n",
    "\n",
    "print(\"Spanish to English:\", translated_text)"
   ]
  },
  {
   "cell_type": "code",
   "execution_count": 5,
   "metadata": {},
   "outputs": [
    {
     "name": "stderr",
     "output_type": "stream",
     "text": [
      "Keyword arguments {'source_lang': 'zh'} not recognized.\n"
     ]
    },
    {
     "name": "stdout",
     "output_type": "stream",
     "text": [
      "Chinese to English: Hello, how are you?\n"
     ]
    }
   ],
   "source": [
    "input_text = \"你好，你好吗？\"  # Chinese (Simplified)\n",
    "\n",
    "translated_text = translate(input_text, source_lang=\"zh\")\n",
    "\n",
    "print(\"Chinese to English:\", translated_text)"
   ]
  },
  {
   "cell_type": "code",
   "execution_count": 6,
   "metadata": {},
   "outputs": [
    {
     "name": "stderr",
     "output_type": "stream",
     "text": [
      "Keyword arguments {'source_lang': 'ru'} not recognized.\n"
     ]
    },
    {
     "name": "stdout",
     "output_type": "stream",
     "text": [
      "Russian to English: Hey, how's it going?\n"
     ]
    }
   ],
   "source": [
    "input_text = \"Привет, как дела?\"  # Russian\n",
    "\n",
    "translated_text = translate(input_text, source_lang=\"ru\")\n",
    "\n",
    "print(\"Russian to English:\", translated_text)\n"
   ]
  },
  {
   "cell_type": "code",
   "execution_count": 7,
   "metadata": {},
   "outputs": [
    {
     "name": "stderr",
     "output_type": "stream",
     "text": [
      "Keyword arguments {'source_lang': 'hi'} not recognized.\n"
     ]
    },
    {
     "name": "stdout",
     "output_type": "stream",
     "text": [
      "Hindi to English: What is your name?\n"
     ]
    }
   ],
   "source": [
    "input_text = \"तुम्हारा नाम क्या हे?\"  # Russian\n",
    "\n",
    "translated_text = translate(input_text, source_lang=\"hi\")\n",
    "\n",
    "print(\"Hindi to English:\", translated_text)\n"
   ]
  },
  {
   "cell_type": "code",
   "execution_count": 9,
   "metadata": {},
   "outputs": [
    {
     "name": "stdout",
     "output_type": "stream",
     "text": [
      "File downloaded successfully to: C:\\Users\\DELL\\Desktop\\Language_translator\\train.csv\n"
     ]
    }
   ],
   "source": [
    "import requests\n",
    "\n",
    "# Replace the URL with the actual URL of the file you want to download\n",
    "url = \"https://huggingface.co/datasets/OdiaGenAI/sentiment_analysis_hindi/viewer/default/train.csv\"\n",
    "\n",
    "# Replace the local path where you want to save the downloaded file\n",
    "local_path = r'C:\\Users\\DELL\\Desktop\\Language_translator\\train.csv'\n",
    "\n",
    "# Make the request to download the file\n",
    "response = requests.get(url)\n",
    "\n",
    "# Check if the request was successful (status code 200)\n",
    "if response.status_code == 200:\n",
    "    # Save the content to a local file\n",
    "    with open(local_path, 'wb') as file:\n",
    "        file.write(response.content)\n",
    "    print(f\"File downloaded successfully to: {local_path}\")\n",
    "else:\n",
    "    print(f\"Failed to download file. Status code: {response.status_code}\")\n"
   ]
  }
 ],
 "metadata": {
  "kernelspec": {
   "display_name": "Python 3",
   "language": "python",
   "name": "python3"
  },
  "language_info": {
   "codemirror_mode": {
    "name": "ipython",
    "version": 3
   },
   "file_extension": ".py",
   "mimetype": "text/x-python",
   "name": "python",
   "nbconvert_exporter": "python",
   "pygments_lexer": "ipython3",
   "version": "3.12.2"
  }
 },
 "nbformat": 4,
 "nbformat_minor": 2
}
